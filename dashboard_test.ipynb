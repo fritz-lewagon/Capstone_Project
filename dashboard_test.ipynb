{
 "cells": [
  {
   "cell_type": "code",
   "execution_count": 1,
   "metadata": {},
   "outputs": [],
   "source": [
    "import dash, dash_table\n",
    "import dash_core_components as dcc\n",
    "import dash_html_components as html\n",
    "import pandas as pd\n",
    "import numpy as np"
   ]
  },
  {
   "cell_type": "code",
   "execution_count": 2,
   "metadata": {},
   "outputs": [
    {
     "data": {
      "text/html": [
       "<div>\n",
       "<style scoped>\n",
       "    .dataframe tbody tr th:only-of-type {\n",
       "        vertical-align: middle;\n",
       "    }\n",
       "\n",
       "    .dataframe tbody tr th {\n",
       "        vertical-align: top;\n",
       "    }\n",
       "\n",
       "    .dataframe thead th {\n",
       "        text-align: right;\n",
       "    }\n",
       "</style>\n",
       "<table border=\"1\" class=\"dataframe\">\n",
       "  <thead>\n",
       "    <tr style=\"text-align: right;\">\n",
       "      <th></th>\n",
       "      <th>Unnamed: 0</th>\n",
       "      <th>comp_name</th>\n",
       "      <th>description</th>\n",
       "      <th>business_model</th>\n",
       "      <th>customer</th>\n",
       "      <th>keywords</th>\n",
       "      <th>stage</th>\n",
       "      <th>total_funding</th>\n",
       "      <th>num_investors</th>\n",
       "      <th>date_founded</th>\n",
       "      <th>location</th>\n",
       "      <th>employees</th>\n",
       "      <th>website</th>\n",
       "    </tr>\n",
       "  </thead>\n",
       "  <tbody>\n",
       "    <tr>\n",
       "      <th>0</th>\n",
       "      <td>0</td>\n",
       "      <td>Auara</td>\n",
       "      <td>Auara es la primera empresa social española ce...</td>\n",
       "      <td>NaN</td>\n",
       "      <td>NaN</td>\n",
       "      <td>NaN</td>\n",
       "      <td>NaN</td>\n",
       "      <td>NaN</td>\n",
       "      <td>1.0</td>\n",
       "      <td>2015.0</td>\n",
       "      <td>Comunidad de Madrid, España</td>\n",
       "      <td>NaN</td>\n",
       "      <td>https://auara.org</td>\n",
       "    </tr>\n",
       "    <tr>\n",
       "      <th>1</th>\n",
       "      <td>1</td>\n",
       "      <td>Corify Care</td>\n",
       "      <td>Corify Carees una startup médica centrada en l...</td>\n",
       "      <td>NaN</td>\n",
       "      <td>B2B</td>\n",
       "      <td>Biotech</td>\n",
       "      <td>NaN</td>\n",
       "      <td>5.70</td>\n",
       "      <td>1.0</td>\n",
       "      <td>2019.0</td>\n",
       "      <td>Comunidad de Madrid, España</td>\n",
       "      <td>NaN</td>\n",
       "      <td>https://corify.es</td>\n",
       "    </tr>\n",
       "    <tr>\n",
       "      <th>2</th>\n",
       "      <td>2</td>\n",
       "      <td>Fossa Systems</td>\n",
       "      <td>En FOSSA Systems desarrollan plataformas picos...</td>\n",
       "      <td>NaN</td>\n",
       "      <td>NaN</td>\n",
       "      <td>Aeroespacial</td>\n",
       "      <td>NaN</td>\n",
       "      <td>NaN</td>\n",
       "      <td>0.0</td>\n",
       "      <td>2020.0</td>\n",
       "      <td>Comunidad de Madrid, España</td>\n",
       "      <td>NaN</td>\n",
       "      <td>http://fossa.systems/</td>\n",
       "    </tr>\n",
       "    <tr>\n",
       "      <th>3</th>\n",
       "      <td>3</td>\n",
       "      <td>Harbest Market</td>\n",
       "      <td>HarBest Market es la primera plataforma que pe...</td>\n",
       "      <td>NaN</td>\n",
       "      <td>NaN</td>\n",
       "      <td>Agrotech</td>\n",
       "      <td>NaN</td>\n",
       "      <td>1.25</td>\n",
       "      <td>3.0</td>\n",
       "      <td>2020.0</td>\n",
       "      <td>Comunidad de Madrid, España</td>\n",
       "      <td>NaN</td>\n",
       "      <td>http://www.harbestmarket.com/</td>\n",
       "    </tr>\n",
       "    <tr>\n",
       "      <th>4</th>\n",
       "      <td>4</td>\n",
       "      <td>Hamelyn</td>\n",
       "      <td>Hamelyn nace como un re-commerce online de lib...</td>\n",
       "      <td>NaN</td>\n",
       "      <td>NaN</td>\n",
       "      <td>Marketplace</td>\n",
       "      <td>NaN</td>\n",
       "      <td>1.00</td>\n",
       "      <td>3.0</td>\n",
       "      <td>2020.0</td>\n",
       "      <td>Comunidad de Madrid, España</td>\n",
       "      <td>NaN</td>\n",
       "      <td>https://hamelyn.com/home</td>\n",
       "    </tr>\n",
       "  </tbody>\n",
       "</table>\n",
       "</div>"
      ],
      "text/plain": [
       "   Unnamed: 0       comp_name  \\\n",
       "0           0           Auara   \n",
       "1           1     Corify Care   \n",
       "2           2   Fossa Systems   \n",
       "3           3  Harbest Market   \n",
       "4           4         Hamelyn   \n",
       "\n",
       "                                         description business_model customer  \\\n",
       "0  Auara es la primera empresa social española ce...            NaN      NaN   \n",
       "1  Corify Carees una startup médica centrada en l...            NaN      B2B   \n",
       "2  En FOSSA Systems desarrollan plataformas picos...            NaN      NaN   \n",
       "3  HarBest Market es la primera plataforma que pe...            NaN      NaN   \n",
       "4  Hamelyn nace como un re-commerce online de lib...            NaN      NaN   \n",
       "\n",
       "       keywords  stage  total_funding  num_investors date_founded  \\\n",
       "0           NaN    NaN            NaN            1.0       2015.0   \n",
       "1       Biotech    NaN           5.70            1.0       2019.0   \n",
       "2  Aeroespacial    NaN            NaN            0.0       2020.0   \n",
       "3      Agrotech    NaN           1.25            3.0       2020.0   \n",
       "4   Marketplace    NaN           1.00            3.0       2020.0   \n",
       "\n",
       "                      location  employees                        website  \n",
       "0  Comunidad de Madrid, España        NaN              https://auara.org  \n",
       "1  Comunidad de Madrid, España        NaN              https://corify.es  \n",
       "2  Comunidad de Madrid, España        NaN          http://fossa.systems/  \n",
       "3  Comunidad de Madrid, España        NaN  http://www.harbestmarket.com/  \n",
       "4  Comunidad de Madrid, España        NaN    https://hamelyn.com/home     "
      ]
     },
     "execution_count": 2,
     "metadata": {},
     "output_type": "execute_result"
    }
   ],
   "source": [
    "df = pd.read_csv(\"data/final_list.csv\")\n",
    "df.head()"
   ]
  },
  {
   "cell_type": "code",
   "execution_count": 3,
   "metadata": {},
   "outputs": [
    {
     "data": {
      "text/plain": [
       "Index(['Unnamed: 0', 'comp_name', 'description', 'business_model', 'customer',\n",
       "       'keywords', 'stage', 'total_funding', 'num_investors', 'date_founded',\n",
       "       'location', 'employees', 'website'],\n",
       "      dtype='object')"
      ]
     },
     "execution_count": 3,
     "metadata": {},
     "output_type": "execute_result"
    }
   ],
   "source": [
    "df.columns"
   ]
  },
  {
   "cell_type": "code",
   "execution_count": 4,
   "metadata": {},
   "outputs": [],
   "source": [
    "df= df.rename(columns={\"Unnamed: 0\": \"Index\", \"comp_name\": \"Company\", \"description\": \"Description\",\n",
    "\"business_model\": \"Business Model\", \"customer\": \"Target Customer\", \"keywords\": \"Keywords\",\n",
    "\"stage\": \"Stage\", \"total_funding\": \"Total Funding (in M€)\", \"num_investors\": \"Number of Investors\",\n",
    "\"date_founded\": \"Year Founded\", \"location\": \"Location\", \"employees\": \"Employees\", \"website\": \"website\"})"
   ]
  },
  {
   "cell_type": "code",
   "execution_count": 5,
   "metadata": {},
   "outputs": [
    {
     "data": {
      "text/plain": [
       "0              2015.0\n",
       "1              2019.0\n",
       "2              2020.0\n",
       "3              2020.0\n",
       "4              2020.0\n",
       "            ...      \n",
       "2044    Founded: 2015\n",
       "2045    Founded: 2020\n",
       "2046    Founded: 2012\n",
       "2047    Founded: 2014\n",
       "2048    Founded: 2013\n",
       "Name: Year Founded, Length: 2049, dtype: object"
      ]
     },
     "execution_count": 5,
     "metadata": {},
     "output_type": "execute_result"
    }
   ],
   "source": [
    "df[\"Year Founded\"].fillna(\"No Information\")"
   ]
  },
  {
   "cell_type": "code",
   "execution_count": 6,
   "metadata": {},
   "outputs": [],
   "source": [
    "df[\"Year Founded\"] = df[\"Year Founded\"].fillna(\"No Information\")"
   ]
  },
  {
   "cell_type": "code",
   "execution_count": 7,
   "metadata": {},
   "outputs": [
    {
     "data": {
      "text/plain": [
       "array(['2015.0', '2019.0', '2020.0', '2021.0', '2016.0', '2018.0',\n",
       "       'No Information', '2012.0', '2008.0', '2017.0', '2014.0', '2009.0',\n",
       "       '2000.0', '2011.0', '2010.0', 'Founded: 2020', 'Founded: 2019',\n",
       "       'Founded: 2018', 'Founded: 2017', 'Founded: 2015', 'Founded: 2012',\n",
       "       'Founded: 2013', 'Founded: 2021', 'Founded: 2014', 'Founded: 2016',\n",
       "       'Founded:', 'Founded: 2011', 'Founded: 2004', 'Founded: 2022'],\n",
       "      dtype=object)"
      ]
     },
     "execution_count": 7,
     "metadata": {},
     "output_type": "execute_result"
    }
   ],
   "source": [
    "df[\"Year Founded\"].unique()"
   ]
  },
  {
   "cell_type": "code",
   "execution_count": 13,
   "metadata": {},
   "outputs": [
    {
     "data": {
      "text/html": [
       "<div>\n",
       "<style scoped>\n",
       "    .dataframe tbody tr th:only-of-type {\n",
       "        vertical-align: middle;\n",
       "    }\n",
       "\n",
       "    .dataframe tbody tr th {\n",
       "        vertical-align: top;\n",
       "    }\n",
       "\n",
       "    .dataframe thead th {\n",
       "        text-align: right;\n",
       "    }\n",
       "</style>\n",
       "<table border=\"1\" class=\"dataframe\">\n",
       "  <thead>\n",
       "    <tr style=\"text-align: right;\">\n",
       "      <th></th>\n",
       "      <th>Index</th>\n",
       "      <th>Company</th>\n",
       "      <th>Description</th>\n",
       "      <th>Business Model</th>\n",
       "      <th>Target Customer</th>\n",
       "      <th>Keywords</th>\n",
       "      <th>Stage</th>\n",
       "      <th>Total Funding (in M€)</th>\n",
       "      <th>Number of Investors</th>\n",
       "      <th>Year Founded</th>\n",
       "      <th>Location</th>\n",
       "      <th>Employees</th>\n",
       "      <th>website</th>\n",
       "    </tr>\n",
       "  </thead>\n",
       "  <tbody>\n",
       "    <tr>\n",
       "      <th>14</th>\n",
       "      <td>14</td>\n",
       "      <td>Civitatis</td>\n",
       "      <td>Civitatis es la compañía líder en distribución...</td>\n",
       "      <td>NaN</td>\n",
       "      <td>B2B</td>\n",
       "      <td>Traveltech,Turismo</td>\n",
       "      <td>NaN</td>\n",
       "      <td>100.0</td>\n",
       "      <td>0.0</td>\n",
       "      <td>2008.0</td>\n",
       "      <td>Comunidad de Madrid, España</td>\n",
       "      <td>NaN</td>\n",
       "      <td>https://www.civitatis.com/es/</td>\n",
       "    </tr>\n",
       "    <tr>\n",
       "      <th>32</th>\n",
       "      <td>32</td>\n",
       "      <td>Civitatis</td>\n",
       "      <td>Civitatis es la compañía líder en distribución...</td>\n",
       "      <td>NaN</td>\n",
       "      <td>B2B</td>\n",
       "      <td>Traveltech,Turismo</td>\n",
       "      <td>NaN</td>\n",
       "      <td>100.0</td>\n",
       "      <td>0.0</td>\n",
       "      <td>2008.0</td>\n",
       "      <td>Comunidad de Madrid, España</td>\n",
       "      <td>NaN</td>\n",
       "      <td>https://www.civitatis.com/es/</td>\n",
       "    </tr>\n",
       "  </tbody>\n",
       "</table>\n",
       "</div>"
      ],
      "text/plain": [
       "    Index    Company                                        Description  \\\n",
       "14     14  Civitatis  Civitatis es la compañía líder en distribución...   \n",
       "32     32  Civitatis  Civitatis es la compañía líder en distribución...   \n",
       "\n",
       "   Business Model Target Customer            Keywords  Stage  \\\n",
       "14            NaN             B2B  Traveltech,Turismo    NaN   \n",
       "32            NaN             B2B  Traveltech,Turismo    NaN   \n",
       "\n",
       "    Total Funding (in M€)  Number of Investors Year Founded  \\\n",
       "14                  100.0                  0.0       2008.0   \n",
       "32                  100.0                  0.0       2008.0   \n",
       "\n",
       "                       Location  Employees                        website  \n",
       "14  Comunidad de Madrid, España        NaN  https://www.civitatis.com/es/  \n",
       "32  Comunidad de Madrid, España        NaN  https://www.civitatis.com/es/  "
      ]
     },
     "execution_count": 13,
     "metadata": {},
     "output_type": "execute_result"
    }
   ],
   "source": [
    "dff = df.copy()\n",
    "dff = dff[dff['Year Founded'].isin(['2008.0'])]\n",
    "dff"
   ]
  },
  {
   "cell_type": "code",
   "execution_count": null,
   "metadata": {},
   "outputs": [],
   "source": []
  },
  {
   "cell_type": "code",
   "execution_count": 8,
   "metadata": {},
   "outputs": [],
   "source": [
    "columns=[{\"name\": i, \"id\": i} for i in df.columns]"
   ]
  },
  {
   "cell_type": "code",
   "execution_count": 9,
   "metadata": {},
   "outputs": [
    {
     "data": {
      "text/plain": [
       "[{'name': 'Index', 'id': 'Index'},\n",
       " {'name': 'Company', 'id': 'Company'},\n",
       " {'name': 'Description', 'id': 'Description'},\n",
       " {'name': 'Business Model', 'id': 'Business Model'},\n",
       " {'name': 'Target Customer', 'id': 'Target Customer'},\n",
       " {'name': 'Keywords', 'id': 'Keywords'},\n",
       " {'name': 'Stage', 'id': 'Stage'},\n",
       " {'name': 'Total Funding (in M€)', 'id': 'Total Funding (in M€)'},\n",
       " {'name': 'Number of Investors', 'id': 'Number of Investors'},\n",
       " {'name': 'Year Founded', 'id': 'Year Founded'},\n",
       " {'name': 'Location', 'id': 'Location'},\n",
       " {'name': 'Employees', 'id': 'Employees'},\n",
       " {'name': 'website', 'id': 'website'}]"
      ]
     },
     "execution_count": 9,
     "metadata": {},
     "output_type": "execute_result"
    }
   ],
   "source": [
    "columns"
   ]
  },
  {
   "cell_type": "code",
   "execution_count": 10,
   "metadata": {},
   "outputs": [],
   "source": [
    "data=df.to_dict('records')"
   ]
  },
  {
   "cell_type": "code",
   "execution_count": 12,
   "metadata": {},
   "outputs": [
    {
     "data": {
      "text/plain": [
       "{'Index': 0,\n",
       " 'Company': 'Auara',\n",
       " 'Description': 'Auara es la primera empresa social española certificada por Social Enterprise Mark. Con el objetivo de revolucionar la cooperación al desarrollo, esta marca de agua mineral invierte el 100% de los dividendos que genera vendiendo sus productos en desarrollar proyectos de acceso a agua potable en países en vía de desarrollo. El proyecto nació con una clara y proactiva vocación social con la que invita a todo el mundo que la consume a convertir un acto cotidiano como beber agua, en un acto extraordinario. Desde su lanzamiento en septiembre de 2016, ya ha dado acceso a agua a más de 57.400 personas y ha generado 72,4 millones de litros de agua potable, habiendo recibido numerosos premios y reconocimientos.',\n",
       " 'Business Model': nan,\n",
       " 'Target Customer': nan,\n",
       " 'Keywords': nan,\n",
       " 'Stage': nan,\n",
       " 'Total Funding (in M€)': nan,\n",
       " 'Number of Investors': 1.0,\n",
       " 'Year Founded': '2015.0',\n",
       " 'Location': 'Comunidad de Madrid, España',\n",
       " 'Employees': nan,\n",
       " 'website': 'https://auara.org'}"
      ]
     },
     "execution_count": 12,
     "metadata": {},
     "output_type": "execute_result"
    }
   ],
   "source": [
    "data[0]"
   ]
  },
  {
   "cell_type": "code",
   "execution_count": 15,
   "metadata": {},
   "outputs": [],
   "source": [
    "options = [{\"label\": x, \"value\": x} for x in df[\"Year Founded\"].unique()]"
   ]
  },
  {
   "cell_type": "code",
   "execution_count": null,
   "metadata": {},
   "outputs": [],
   "source": []
  },
  {
   "cell_type": "code",
   "execution_count": null,
   "metadata": {},
   "outputs": [],
   "source": []
  },
  {
   "cell_type": "code",
   "execution_count": null,
   "metadata": {},
   "outputs": [],
   "source": [
    "### this is how it should work"
   ]
  },
  {
   "cell_type": "code",
   "execution_count": 26,
   "metadata": {},
   "outputs": [],
   "source": [
    "data_updated = df[df['Year Founded'] == '2015.0']"
   ]
  },
  {
   "cell_type": "code",
   "execution_count": 27,
   "metadata": {},
   "outputs": [
    {
     "data": {
      "text/html": [
       "<div>\n",
       "<style scoped>\n",
       "    .dataframe tbody tr th:only-of-type {\n",
       "        vertical-align: middle;\n",
       "    }\n",
       "\n",
       "    .dataframe tbody tr th {\n",
       "        vertical-align: top;\n",
       "    }\n",
       "\n",
       "    .dataframe thead th {\n",
       "        text-align: right;\n",
       "    }\n",
       "</style>\n",
       "<table border=\"1\" class=\"dataframe\">\n",
       "  <thead>\n",
       "    <tr style=\"text-align: right;\">\n",
       "      <th></th>\n",
       "      <th>Index</th>\n",
       "      <th>Company</th>\n",
       "      <th>Description</th>\n",
       "      <th>Business Model</th>\n",
       "      <th>Target Customer</th>\n",
       "      <th>Keywords</th>\n",
       "      <th>Stage</th>\n",
       "      <th>Total Funding (in M€)</th>\n",
       "      <th>Number of Investors</th>\n",
       "      <th>Year Founded</th>\n",
       "      <th>Location</th>\n",
       "      <th>Employees</th>\n",
       "      <th>website</th>\n",
       "    </tr>\n",
       "  </thead>\n",
       "  <tbody>\n",
       "    <tr>\n",
       "      <th>0</th>\n",
       "      <td>0</td>\n",
       "      <td>Auara</td>\n",
       "      <td>Auara es la primera empresa social española ce...</td>\n",
       "      <td>NaN</td>\n",
       "      <td>NaN</td>\n",
       "      <td>NaN</td>\n",
       "      <td>NaN</td>\n",
       "      <td>NaN</td>\n",
       "      <td>1.0</td>\n",
       "      <td>2015.0</td>\n",
       "      <td>Comunidad de Madrid, España</td>\n",
       "      <td>NaN</td>\n",
       "      <td>https://auara.org</td>\n",
       "    </tr>\n",
       "    <tr>\n",
       "      <th>22</th>\n",
       "      <td>22</td>\n",
       "      <td>Frenetic</td>\n",
       "      <td>Frenetic es una startup de eletrónica de poten...</td>\n",
       "      <td>NaN</td>\n",
       "      <td>NaN</td>\n",
       "      <td>NaN</td>\n",
       "      <td>NaN</td>\n",
       "      <td>4.85</td>\n",
       "      <td>3.0</td>\n",
       "      <td>2015.0</td>\n",
       "      <td>Comunidad de Madrid, España</td>\n",
       "      <td>NaN</td>\n",
       "      <td>https://spfrenetic.com/</td>\n",
       "    </tr>\n",
       "    <tr>\n",
       "      <th>45</th>\n",
       "      <td>45</td>\n",
       "      <td>Glovo</td>\n",
       "      <td>Glovo es la plataforma tecnológica de referenc...</td>\n",
       "      <td>NaN</td>\n",
       "      <td>B2C</td>\n",
       "      <td>NaN</td>\n",
       "      <td>NaN</td>\n",
       "      <td>898.00</td>\n",
       "      <td>10.0</td>\n",
       "      <td>2015.0</td>\n",
       "      <td>Cataluña, España</td>\n",
       "      <td>NaN</td>\n",
       "      <td>https://glovoapp.com/</td>\n",
       "    </tr>\n",
       "    <tr>\n",
       "      <th>53</th>\n",
       "      <td>53</td>\n",
       "      <td>Glovo</td>\n",
       "      <td>Glovo es la plataforma tecnológica de referenc...</td>\n",
       "      <td>NaN</td>\n",
       "      <td>B2C</td>\n",
       "      <td>NaN</td>\n",
       "      <td>NaN</td>\n",
       "      <td>898.00</td>\n",
       "      <td>10.0</td>\n",
       "      <td>2015.0</td>\n",
       "      <td>Cataluña, España</td>\n",
       "      <td>NaN</td>\n",
       "      <td>https://glovoapp.com/</td>\n",
       "    </tr>\n",
       "  </tbody>\n",
       "</table>\n",
       "</div>"
      ],
      "text/plain": [
       "    Index   Company                                        Description  \\\n",
       "0       0     Auara  Auara es la primera empresa social española ce...   \n",
       "22     22  Frenetic  Frenetic es una startup de eletrónica de poten...   \n",
       "45     45     Glovo  Glovo es la plataforma tecnológica de referenc...   \n",
       "53     53     Glovo  Glovo es la plataforma tecnológica de referenc...   \n",
       "\n",
       "   Business Model Target Customer Keywords  Stage  Total Funding (in M€)  \\\n",
       "0             NaN             NaN      NaN    NaN                    NaN   \n",
       "22            NaN             NaN      NaN    NaN                   4.85   \n",
       "45            NaN             B2C      NaN    NaN                 898.00   \n",
       "53            NaN             B2C      NaN    NaN                 898.00   \n",
       "\n",
       "    Number of Investors Year Founded                     Location  Employees  \\\n",
       "0                   1.0       2015.0  Comunidad de Madrid, España        NaN   \n",
       "22                  3.0       2015.0  Comunidad de Madrid, España        NaN   \n",
       "45                 10.0       2015.0             Cataluña, España        NaN   \n",
       "53                 10.0       2015.0             Cataluña, España        NaN   \n",
       "\n",
       "                    website  \n",
       "0         https://auara.org  \n",
       "22  https://spfrenetic.com/  \n",
       "45    https://glovoapp.com/  \n",
       "53    https://glovoapp.com/  "
      ]
     },
     "execution_count": 27,
     "metadata": {},
     "output_type": "execute_result"
    }
   ],
   "source": [
    "data_updated"
   ]
  },
  {
   "cell_type": "code",
   "execution_count": 25,
   "metadata": {},
   "outputs": [
    {
     "data": {
      "text/plain": [
       "[{'Index': 0,\n",
       "  'Company': 'Auara',\n",
       "  'Description': 'Auara es la primera empresa social española certificada por Social Enterprise Mark. Con el objetivo de revolucionar la cooperación al desarrollo, esta marca de agua mineral invierte el 100% de los dividendos que genera vendiendo sus productos en desarrollar proyectos de acceso a agua potable en países en vía de desarrollo. El proyecto nació con una clara y proactiva vocación social con la que invita a todo el mundo que la consume a convertir un acto cotidiano como beber agua, en un acto extraordinario. Desde su lanzamiento en septiembre de 2016, ya ha dado acceso a agua a más de 57.400 personas y ha generado 72,4 millones de litros de agua potable, habiendo recibido numerosos premios y reconocimientos.',\n",
       "  'Business Model': nan,\n",
       "  'Target Customer': nan,\n",
       "  'Keywords': nan,\n",
       "  'Stage': nan,\n",
       "  'Total Funding (in M€)': nan,\n",
       "  'Number of Investors': 1.0,\n",
       "  'Year Founded': '2015.0',\n",
       "  'Location': 'Comunidad de Madrid, España',\n",
       "  'Employees': nan,\n",
       "  'website': 'https://auara.org'},\n",
       " {'Index': 22,\n",
       "  'Company': 'Frenetic',\n",
       "  'Description': 'Frenetic es una startup de eletrónica de potencia que ayuda a todo tipo de empresas de electrónica compleja a reducir tiempos y costes en el diseño y fabricación de los componentes magnéticos de sus productos. Esto lo consiguen a través de un software desarrollado por la propia marca basado en inteligencia artificial y \"cloud-computing\". Este permite a los propios ingenieros de las firmas con las que trabaja diseñar y gestionar la fabricación online en apenas minutos, proceso que sin esta tecnología podría llevar meses, con el consiguiente gasto energético y de materiales debido a las iteraciones necesarias. En sus dos años de vida ya cuenta con más de 70 clientes en todo el mundo, entre ellos firmas como Airbus, Siemens o Texas Instruments, y a llevado sus magnéticos a la carretera, cielo y espacio.',\n",
       "  'Business Model': nan,\n",
       "  'Target Customer': nan,\n",
       "  'Keywords': nan,\n",
       "  'Stage': nan,\n",
       "  'Total Funding (in M€)': 4.85,\n",
       "  'Number of Investors': 3.0,\n",
       "  'Year Founded': '2015.0',\n",
       "  'Location': 'Comunidad de Madrid, España',\n",
       "  'Employees': nan,\n",
       "  'website': 'https://spfrenetic.com/'},\n",
       " {'Index': 45,\n",
       "  'Company': 'Glovo',\n",
       "  'Description': 'Glovo es la plataforma tecnológica de referencia en el sector del delivery. Fundada en 2015 y con HQ en Barcelona, actualmente se encuentra en más de 900 ciudades en 24 países. Además de conectar a los usuarios con los mejores restaurantes de su ciudad, incluye el servicio de otras categorías como alimentación, parafarmacia, regalos o envíos exprés. En España, Glovo está disponible en cerca de 400 ciudades.',\n",
       "  'Business Model': nan,\n",
       "  'Target Customer': 'B2C',\n",
       "  'Keywords': nan,\n",
       "  'Stage': nan,\n",
       "  'Total Funding (in M€)': 898.0,\n",
       "  'Number of Investors': 10.0,\n",
       "  'Year Founded': '2015.0',\n",
       "  'Location': 'Cataluña, España',\n",
       "  'Employees': nan,\n",
       "  'website': 'https://glovoapp.com/'},\n",
       " {'Index': 53,\n",
       "  'Company': 'Glovo',\n",
       "  'Description': 'Glovo es la plataforma tecnológica de referencia en el sector del delivery. Fundada en 2015 y con HQ en Barcelona, actualmente se encuentra en más de 900 ciudades en 24 países. Además de conectar a los usuarios con los mejores restaurantes de su ciudad, incluye el servicio de otras categorías como alimentación, parafarmacia, regalos o envíos exprés. En España, Glovo está disponible en cerca de 400 ciudades.',\n",
       "  'Business Model': nan,\n",
       "  'Target Customer': 'B2C',\n",
       "  'Keywords': nan,\n",
       "  'Stage': nan,\n",
       "  'Total Funding (in M€)': 898.0,\n",
       "  'Number of Investors': 10.0,\n",
       "  'Year Founded': '2015.0',\n",
       "  'Location': 'Cataluña, España',\n",
       "  'Employees': nan,\n",
       "  'website': 'https://glovoapp.com/'}]"
      ]
     },
     "execution_count": 25,
     "metadata": {},
     "output_type": "execute_result"
    }
   ],
   "source": [
    "data_updated.to_dict('records')"
   ]
  },
  {
   "cell_type": "code",
   "execution_count": 23,
   "metadata": {},
   "outputs": [],
   "source": [
    "columns_updated = [{\"name\": i, \"id\": i} for i in data_updated.columns]"
   ]
  },
  {
   "cell_type": "code",
   "execution_count": 24,
   "metadata": {},
   "outputs": [
    {
     "data": {
      "text/plain": [
       "[{'name': 'Index', 'id': 'Index'},\n",
       " {'name': 'Company', 'id': 'Company'},\n",
       " {'name': 'Description', 'id': 'Description'},\n",
       " {'name': 'Business Model', 'id': 'Business Model'},\n",
       " {'name': 'Target Customer', 'id': 'Target Customer'},\n",
       " {'name': 'Keywords', 'id': 'Keywords'},\n",
       " {'name': 'Stage', 'id': 'Stage'},\n",
       " {'name': 'Total Funding (in M€)', 'id': 'Total Funding (in M€)'},\n",
       " {'name': 'Number of Investors', 'id': 'Number of Investors'},\n",
       " {'name': 'Year Founded', 'id': 'Year Founded'},\n",
       " {'name': 'Location', 'id': 'Location'},\n",
       " {'name': 'Employees', 'id': 'Employees'},\n",
       " {'name': 'website', 'id': 'website'}]"
      ]
     },
     "execution_count": 24,
     "metadata": {},
     "output_type": "execute_result"
    }
   ],
   "source": [
    "columns_updated"
   ]
  },
  {
   "cell_type": "code",
   "execution_count": null,
   "metadata": {},
   "outputs": [],
   "source": []
  },
  {
   "cell_type": "code",
   "execution_count": null,
   "metadata": {},
   "outputs": [],
   "source": []
  },
  {
   "cell_type": "code",
   "execution_count": 13,
   "metadata": {},
   "outputs": [],
   "source": [
    "def update_table(cols):\n",
    "    columns=[{\"name\": col, \"id\": col} for col in cols]\n",
    "    data=df[cols].to_dict('records')\n",
    "    return columns"
   ]
  },
  {
   "cell_type": "code",
   "execution_count": 14,
   "metadata": {},
   "outputs": [
    {
     "ename": "TypeError",
     "evalue": "unhashable type: 'dict'",
     "output_type": "error",
     "traceback": [
      "\u001b[0;31m---------------------------------------------------------------------------\u001b[0m",
      "\u001b[0;31mTypeError\u001b[0m                                 Traceback (most recent call last)",
      "\u001b[0;32m<ipython-input-14-daf72d404aaa>\u001b[0m in \u001b[0;36m<module>\u001b[0;34m\u001b[0m\n\u001b[0;32m----> 1\u001b[0;31m \u001b[0mupdate_table\u001b[0m\u001b[0;34m(\u001b[0m\u001b[0mcolumns\u001b[0m\u001b[0;34m)\u001b[0m\u001b[0;34m\u001b[0m\u001b[0;34m\u001b[0m\u001b[0m\n\u001b[0m",
      "\u001b[0;32m<ipython-input-13-310937f032fd>\u001b[0m in \u001b[0;36mupdate_table\u001b[0;34m(cols)\u001b[0m\n\u001b[1;32m      1\u001b[0m \u001b[0;32mdef\u001b[0m \u001b[0mupdate_table\u001b[0m\u001b[0;34m(\u001b[0m\u001b[0mcols\u001b[0m\u001b[0;34m)\u001b[0m\u001b[0;34m:\u001b[0m\u001b[0;34m\u001b[0m\u001b[0;34m\u001b[0m\u001b[0m\n\u001b[1;32m      2\u001b[0m     \u001b[0mcolumns\u001b[0m\u001b[0;34m=\u001b[0m\u001b[0;34m[\u001b[0m\u001b[0;34m{\u001b[0m\u001b[0;34m\"name\"\u001b[0m\u001b[0;34m:\u001b[0m \u001b[0mcol\u001b[0m\u001b[0;34m,\u001b[0m \u001b[0;34m\"id\"\u001b[0m\u001b[0;34m:\u001b[0m \u001b[0mcol\u001b[0m\u001b[0;34m}\u001b[0m \u001b[0;32mfor\u001b[0m \u001b[0mcol\u001b[0m \u001b[0;32min\u001b[0m \u001b[0mcols\u001b[0m\u001b[0;34m]\u001b[0m\u001b[0;34m\u001b[0m\u001b[0;34m\u001b[0m\u001b[0m\n\u001b[0;32m----> 3\u001b[0;31m     \u001b[0mdata\u001b[0m\u001b[0;34m=\u001b[0m\u001b[0mdf\u001b[0m\u001b[0;34m[\u001b[0m\u001b[0mcols\u001b[0m\u001b[0;34m]\u001b[0m\u001b[0;34m.\u001b[0m\u001b[0mto_dict\u001b[0m\u001b[0;34m(\u001b[0m\u001b[0;34m'records'\u001b[0m\u001b[0;34m)\u001b[0m\u001b[0;34m\u001b[0m\u001b[0;34m\u001b[0m\u001b[0m\n\u001b[0m\u001b[1;32m      4\u001b[0m     \u001b[0;32mreturn\u001b[0m \u001b[0mcolumns\u001b[0m\u001b[0;34m\u001b[0m\u001b[0;34m\u001b[0m\u001b[0m\n",
      "\u001b[0;32m~/opt/anaconda3/lib/python3.8/site-packages/pandas/core/frame.py\u001b[0m in \u001b[0;36m__getitem__\u001b[0;34m(self, key)\u001b[0m\n\u001b[1;32m   2804\u001b[0m             \u001b[0;32mif\u001b[0m \u001b[0mis_iterator\u001b[0m\u001b[0;34m(\u001b[0m\u001b[0mkey\u001b[0m\u001b[0;34m)\u001b[0m\u001b[0;34m:\u001b[0m\u001b[0;34m\u001b[0m\u001b[0;34m\u001b[0m\u001b[0m\n\u001b[1;32m   2805\u001b[0m                 \u001b[0mkey\u001b[0m \u001b[0;34m=\u001b[0m \u001b[0mlist\u001b[0m\u001b[0;34m(\u001b[0m\u001b[0mkey\u001b[0m\u001b[0;34m)\u001b[0m\u001b[0;34m\u001b[0m\u001b[0;34m\u001b[0m\u001b[0m\n\u001b[0;32m-> 2806\u001b[0;31m             \u001b[0mindexer\u001b[0m \u001b[0;34m=\u001b[0m \u001b[0mself\u001b[0m\u001b[0;34m.\u001b[0m\u001b[0mloc\u001b[0m\u001b[0;34m.\u001b[0m\u001b[0m_get_listlike_indexer\u001b[0m\u001b[0;34m(\u001b[0m\u001b[0mkey\u001b[0m\u001b[0;34m,\u001b[0m \u001b[0maxis\u001b[0m\u001b[0;34m=\u001b[0m\u001b[0;36m1\u001b[0m\u001b[0;34m,\u001b[0m \u001b[0mraise_missing\u001b[0m\u001b[0;34m=\u001b[0m\u001b[0;32mTrue\u001b[0m\u001b[0;34m)\u001b[0m\u001b[0;34m[\u001b[0m\u001b[0;36m1\u001b[0m\u001b[0;34m]\u001b[0m\u001b[0;34m\u001b[0m\u001b[0;34m\u001b[0m\u001b[0m\n\u001b[0m\u001b[1;32m   2807\u001b[0m \u001b[0;34m\u001b[0m\u001b[0m\n\u001b[1;32m   2808\u001b[0m         \u001b[0;31m# take() does not accept boolean indexers\u001b[0m\u001b[0;34m\u001b[0m\u001b[0;34m\u001b[0m\u001b[0;34m\u001b[0m\u001b[0m\n",
      "\u001b[0;32m~/opt/anaconda3/lib/python3.8/site-packages/pandas/core/indexing.py\u001b[0m in \u001b[0;36m_get_listlike_indexer\u001b[0;34m(self, key, axis, raise_missing)\u001b[0m\n\u001b[1;32m   1545\u001b[0m             \u001b[0;32mif\u001b[0m \u001b[0mlen\u001b[0m\u001b[0;34m(\u001b[0m\u001b[0max\u001b[0m\u001b[0;34m)\u001b[0m \u001b[0;32mor\u001b[0m \u001b[0;32mnot\u001b[0m \u001b[0mlen\u001b[0m\u001b[0;34m(\u001b[0m\u001b[0mkey\u001b[0m\u001b[0;34m)\u001b[0m\u001b[0;34m:\u001b[0m\u001b[0;34m\u001b[0m\u001b[0;34m\u001b[0m\u001b[0m\n\u001b[1;32m   1546\u001b[0m                 \u001b[0mkey\u001b[0m \u001b[0;34m=\u001b[0m \u001b[0mself\u001b[0m\u001b[0;34m.\u001b[0m\u001b[0m_convert_for_reindex\u001b[0m\u001b[0;34m(\u001b[0m\u001b[0mkey\u001b[0m\u001b[0;34m,\u001b[0m \u001b[0maxis\u001b[0m\u001b[0;34m)\u001b[0m\u001b[0;34m\u001b[0m\u001b[0;34m\u001b[0m\u001b[0m\n\u001b[0;32m-> 1547\u001b[0;31m             \u001b[0mindexer\u001b[0m \u001b[0;34m=\u001b[0m \u001b[0max\u001b[0m\u001b[0;34m.\u001b[0m\u001b[0mget_indexer_for\u001b[0m\u001b[0;34m(\u001b[0m\u001b[0mkey\u001b[0m\u001b[0;34m)\u001b[0m\u001b[0;34m\u001b[0m\u001b[0;34m\u001b[0m\u001b[0m\n\u001b[0m\u001b[1;32m   1548\u001b[0m             \u001b[0mkeyarr\u001b[0m \u001b[0;34m=\u001b[0m \u001b[0max\u001b[0m\u001b[0;34m.\u001b[0m\u001b[0mreindex\u001b[0m\u001b[0;34m(\u001b[0m\u001b[0mkeyarr\u001b[0m\u001b[0;34m)\u001b[0m\u001b[0;34m[\u001b[0m\u001b[0;36m0\u001b[0m\u001b[0;34m]\u001b[0m\u001b[0;34m\u001b[0m\u001b[0;34m\u001b[0m\u001b[0m\n\u001b[1;32m   1549\u001b[0m         \u001b[0;32melse\u001b[0m\u001b[0;34m:\u001b[0m\u001b[0;34m\u001b[0m\u001b[0;34m\u001b[0m\u001b[0m\n",
      "\u001b[0;32m~/opt/anaconda3/lib/python3.8/site-packages/pandas/core/indexes/base.py\u001b[0m in \u001b[0;36mget_indexer_for\u001b[0;34m(self, target, **kwargs)\u001b[0m\n\u001b[1;32m   4500\u001b[0m         \"\"\"\n\u001b[1;32m   4501\u001b[0m         \u001b[0;32mif\u001b[0m \u001b[0mself\u001b[0m\u001b[0;34m.\u001b[0m\u001b[0mis_unique\u001b[0m\u001b[0;34m:\u001b[0m\u001b[0;34m\u001b[0m\u001b[0;34m\u001b[0m\u001b[0m\n\u001b[0;32m-> 4502\u001b[0;31m             \u001b[0;32mreturn\u001b[0m \u001b[0mself\u001b[0m\u001b[0;34m.\u001b[0m\u001b[0mget_indexer\u001b[0m\u001b[0;34m(\u001b[0m\u001b[0mtarget\u001b[0m\u001b[0;34m,\u001b[0m \u001b[0;34m**\u001b[0m\u001b[0mkwargs\u001b[0m\u001b[0;34m)\u001b[0m\u001b[0;34m\u001b[0m\u001b[0;34m\u001b[0m\u001b[0m\n\u001b[0m\u001b[1;32m   4503\u001b[0m         \u001b[0mindexer\u001b[0m\u001b[0;34m,\u001b[0m \u001b[0m_\u001b[0m \u001b[0;34m=\u001b[0m \u001b[0mself\u001b[0m\u001b[0;34m.\u001b[0m\u001b[0mget_indexer_non_unique\u001b[0m\u001b[0;34m(\u001b[0m\u001b[0mtarget\u001b[0m\u001b[0;34m,\u001b[0m \u001b[0;34m**\u001b[0m\u001b[0mkwargs\u001b[0m\u001b[0;34m)\u001b[0m\u001b[0;34m\u001b[0m\u001b[0;34m\u001b[0m\u001b[0m\n\u001b[1;32m   4504\u001b[0m         \u001b[0;32mreturn\u001b[0m \u001b[0mindexer\u001b[0m\u001b[0;34m\u001b[0m\u001b[0;34m\u001b[0m\u001b[0m\n",
      "\u001b[0;32m~/opt/anaconda3/lib/python3.8/site-packages/pandas/core/indexes/base.py\u001b[0m in \u001b[0;36mget_indexer\u001b[0;34m(self, target, method, limit, tolerance)\u001b[0m\n\u001b[1;32m   2751\u001b[0m                 )\n\u001b[1;32m   2752\u001b[0m \u001b[0;34m\u001b[0m\u001b[0m\n\u001b[0;32m-> 2753\u001b[0;31m             \u001b[0mindexer\u001b[0m \u001b[0;34m=\u001b[0m \u001b[0mself\u001b[0m\u001b[0;34m.\u001b[0m\u001b[0m_engine\u001b[0m\u001b[0;34m.\u001b[0m\u001b[0mget_indexer\u001b[0m\u001b[0;34m(\u001b[0m\u001b[0mtarget\u001b[0m\u001b[0;34m.\u001b[0m\u001b[0m_ndarray_values\u001b[0m\u001b[0;34m)\u001b[0m\u001b[0;34m\u001b[0m\u001b[0;34m\u001b[0m\u001b[0m\n\u001b[0m\u001b[1;32m   2754\u001b[0m \u001b[0;34m\u001b[0m\u001b[0m\n\u001b[1;32m   2755\u001b[0m         \u001b[0;32mreturn\u001b[0m \u001b[0mensure_platform_int\u001b[0m\u001b[0;34m(\u001b[0m\u001b[0mindexer\u001b[0m\u001b[0;34m)\u001b[0m\u001b[0;34m\u001b[0m\u001b[0;34m\u001b[0m\u001b[0m\n",
      "\u001b[0;32mpandas/_libs/index.pyx\u001b[0m in \u001b[0;36mpandas._libs.index.IndexEngine.get_indexer\u001b[0;34m()\u001b[0m\n",
      "\u001b[0;32mpandas/_libs/hashtable_class_helper.pxi\u001b[0m in \u001b[0;36mpandas._libs.hashtable.PyObjectHashTable.lookup\u001b[0;34m()\u001b[0m\n",
      "\u001b[0;31mTypeError\u001b[0m: unhashable type: 'dict'"
     ]
    }
   ],
   "source": [
    "update_table(columns)"
   ]
  },
  {
   "cell_type": "code",
   "execution_count": null,
   "metadata": {},
   "outputs": [],
   "source": []
  },
  {
   "cell_type": "code",
   "execution_count": null,
   "metadata": {},
   "outputs": [],
   "source": []
  },
  {
   "cell_type": "code",
   "execution_count": null,
   "metadata": {},
   "outputs": [],
   "source": []
  },
  {
   "cell_type": "code",
   "execution_count": 10,
   "metadata": {},
   "outputs": [
    {
     "data": {
      "text/plain": [
       "Index(['Index', 'Company', 'Description', 'Business Model', 'Target Customer',\n",
       "       'Keywords', 'Stage', 'Total Funding (in M€)', 'Number of Investors',\n",
       "       'Year Founded', 'Location', 'Employees', 'website'],\n",
       "      dtype='object')"
      ]
     },
     "execution_count": 10,
     "metadata": {},
     "output_type": "execute_result"
    }
   ],
   "source": [
    "df.columns"
   ]
  },
  {
   "cell_type": "code",
   "execution_count": 17,
   "metadata": {
    "scrolled": true
   },
   "outputs": [
    {
     "name": "stdout",
     "output_type": "stream",
     "text": [
      "2015.0\n",
      "2019.0\n",
      "2020.0\n",
      "2021.0\n",
      "2016.0\n",
      "2018.0\n",
      "nan\n",
      "2012.0\n",
      "2008.0\n",
      "2017.0\n",
      "2014.0\n",
      "2009.0\n",
      "2000.0\n",
      "2011.0\n",
      "2010.0\n",
      "Founded: 2020\n",
      "Founded: 2019\n",
      "Founded: 2018\n",
      "Founded: 2017\n",
      "Founded: 2015\n",
      "Founded: 2012\n",
      "Founded: 2013\n",
      "Founded: 2021\n",
      "Founded: 2014\n",
      "Founded: 2016\n",
      "Founded:\n",
      "Founded: 2011\n",
      "Founded: 2004\n",
      "Founded: 2022\n"
     ]
    }
   ],
   "source": [
    "for x in df[\"Year Founded\"].unique():\n",
    "    print(x)"
   ]
  },
  {
   "cell_type": "code",
   "execution_count": null,
   "metadata": {},
   "outputs": [],
   "source": [
    "crash_here"
   ]
  },
  {
   "cell_type": "code",
   "execution_count": null,
   "metadata": {},
   "outputs": [],
   "source": [
    "from dash import Dash\n",
    "import dash, dash_table\n",
    "import dash_core_components as dcc\n",
    "import dash_html_components as html\n",
    "import pandas as pd\n",
    "\n",
    "external_stylesheets = [\n",
    "    {\n",
    "        \"href\": \"https://fonts.googleapis.com/css2?\"\n",
    "        \"family=Lato:wght@400;700&display=swap\",\n",
    "        \"rel\": \"stylesheet\",\n",
    "    },\n",
    "]\n",
    "\n",
    "df = pd.read_csv(\"data/final_list.csv\")\n",
    "\n",
    "\n",
    "app = dash.Dash(__name__, external_stylesheets=external_stylesheets)\n",
    "\n",
    "app.layout = html.Div(\n",
    "    children=[\n",
    "        html.Img(src=(\"/assets/Logo.png\")),\n",
    "        html.H1(children=\"Start Up List\",className=\"header-title\",),\n",
    "        html.P(children=\"Last scrape was the 12.12.12\",className=\"header-description\",),\n",
    "        \n",
    "      \n",
    "        dash_table.DataTable(\n",
    "            id='table',\n",
    "            columns=[{\"name\": i, \"id\": i} for i in df.columns],\n",
    "            data=df.to_dict('records'),\n",
    "            )\n",
    "        ], className=\"wrapper\",\n",
    "    )\n",
    "\n",
    "if __name__ == '__main__':\n",
    "        app.run_server(debug=True, use_reloader=False)"
   ]
  },
  {
   "cell_type": "code",
   "execution_count": null,
   "metadata": {},
   "outputs": [],
   "source": [
    "break_point"
   ]
  },
  {
   "cell_type": "code",
   "execution_count": null,
   "metadata": {},
   "outputs": [],
   "source": [
    "df = pd.read_csv(\"data/startup_list.csv\")\n",
    "\n",
    "app = dash.Dash(__name__)\n",
    "\n",
    "app.layout = html.Div(\n",
    "    children=[\n",
    "        html.H1(children=\"Start Up List\",className=\"header-title\",),\n",
    "        html.P(children=\"Last scrape was th 12.12.12\",),\n",
    "        \n",
    "        \n",
    "        \n",
    "        dash_table.DataTable(\n",
    "        id='table',\n",
    "        columns=[{\"name\": i, \"id\": i} for i in df.columns],\n",
    "        data=df.to_dict('records'),\n",
    ")])\n",
    "\n",
    "if __name__ == '__main__':\n",
    "        app.run_server(debug=True, use_reloader=False)"
   ]
  }
 ],
 "metadata": {
  "kernelspec": {
   "display_name": "Python 3",
   "language": "python",
   "name": "python3"
  },
  "language_info": {
   "codemirror_mode": {
    "name": "ipython",
    "version": 3
   },
   "file_extension": ".py",
   "mimetype": "text/x-python",
   "name": "python",
   "nbconvert_exporter": "python",
   "pygments_lexer": "ipython3",
   "version": "3.8.3"
  },
  "toc": {
   "base_numbering": 1,
   "nav_menu": {},
   "number_sections": true,
   "sideBar": true,
   "skip_h1_title": false,
   "title_cell": "Table of Contents",
   "title_sidebar": "Contents",
   "toc_cell": false,
   "toc_position": {},
   "toc_section_display": true,
   "toc_window_display": false
  },
  "varInspector": {
   "cols": {
    "lenName": 16,
    "lenType": 16,
    "lenVar": 40
   },
   "kernels_config": {
    "python": {
     "delete_cmd_postfix": "",
     "delete_cmd_prefix": "del ",
     "library": "var_list.py",
     "varRefreshCmd": "print(var_dic_list())"
    },
    "r": {
     "delete_cmd_postfix": ") ",
     "delete_cmd_prefix": "rm(",
     "library": "var_list.r",
     "varRefreshCmd": "cat(var_dic_list()) "
    }
   },
   "types_to_exclude": [
    "module",
    "function",
    "builtin_function_or_method",
    "instance",
    "_Feature"
   ],
   "window_display": false
  }
 },
 "nbformat": 4,
 "nbformat_minor": 4
}
