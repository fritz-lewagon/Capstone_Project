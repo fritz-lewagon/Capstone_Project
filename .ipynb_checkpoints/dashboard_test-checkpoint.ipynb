{
 "cells": [
  {
   "cell_type": "code",
   "execution_count": 1,
   "metadata": {},
   "outputs": [],
   "source": [
    "import dash, dash_table\n",
    "import dash_core_components as dcc\n",
    "import dash_html_components as html\n",
    "import pandas as pd\n",
    "import numpy as np"
   ]
  },
  {
   "cell_type": "code",
   "execution_count": 2,
   "metadata": {},
   "outputs": [
    {
     "data": {
      "text/html": [
       "<div>\n",
       "<style scoped>\n",
       "    .dataframe tbody tr th:only-of-type {\n",
       "        vertical-align: middle;\n",
       "    }\n",
       "\n",
       "    .dataframe tbody tr th {\n",
       "        vertical-align: top;\n",
       "    }\n",
       "\n",
       "    .dataframe thead th {\n",
       "        text-align: right;\n",
       "    }\n",
       "</style>\n",
       "<table border=\"1\" class=\"dataframe\">\n",
       "  <thead>\n",
       "    <tr style=\"text-align: right;\">\n",
       "      <th></th>\n",
       "      <th>Unnamed: 0</th>\n",
       "      <th>comp_name</th>\n",
       "      <th>description</th>\n",
       "      <th>business_model</th>\n",
       "      <th>customer</th>\n",
       "      <th>keywords</th>\n",
       "      <th>stage</th>\n",
       "      <th>total_funding</th>\n",
       "      <th>num_investors</th>\n",
       "      <th>date_founded</th>\n",
       "      <th>location</th>\n",
       "      <th>employees</th>\n",
       "      <th>website</th>\n",
       "    </tr>\n",
       "  </thead>\n",
       "  <tbody>\n",
       "    <tr>\n",
       "      <th>0</th>\n",
       "      <td>0</td>\n",
       "      <td>Auara</td>\n",
       "      <td>Auara es la primera empresa social española ce...</td>\n",
       "      <td>NaN</td>\n",
       "      <td>NaN</td>\n",
       "      <td>NaN</td>\n",
       "      <td>NaN</td>\n",
       "      <td>NaN</td>\n",
       "      <td>1.0</td>\n",
       "      <td>2015.0</td>\n",
       "      <td>Comunidad de Madrid, España</td>\n",
       "      <td>NaN</td>\n",
       "      <td>https://auara.org</td>\n",
       "    </tr>\n",
       "    <tr>\n",
       "      <th>1</th>\n",
       "      <td>1</td>\n",
       "      <td>Corify Care</td>\n",
       "      <td>Corify Carees una startup médica centrada en l...</td>\n",
       "      <td>NaN</td>\n",
       "      <td>B2B</td>\n",
       "      <td>Biotech</td>\n",
       "      <td>NaN</td>\n",
       "      <td>5.70</td>\n",
       "      <td>1.0</td>\n",
       "      <td>2019.0</td>\n",
       "      <td>Comunidad de Madrid, España</td>\n",
       "      <td>NaN</td>\n",
       "      <td>https://corify.es</td>\n",
       "    </tr>\n",
       "    <tr>\n",
       "      <th>2</th>\n",
       "      <td>2</td>\n",
       "      <td>Fossa Systems</td>\n",
       "      <td>En FOSSA Systems desarrollan plataformas picos...</td>\n",
       "      <td>NaN</td>\n",
       "      <td>NaN</td>\n",
       "      <td>Aeroespacial</td>\n",
       "      <td>NaN</td>\n",
       "      <td>NaN</td>\n",
       "      <td>0.0</td>\n",
       "      <td>2020.0</td>\n",
       "      <td>Comunidad de Madrid, España</td>\n",
       "      <td>NaN</td>\n",
       "      <td>http://fossa.systems/</td>\n",
       "    </tr>\n",
       "    <tr>\n",
       "      <th>3</th>\n",
       "      <td>3</td>\n",
       "      <td>Harbest Market</td>\n",
       "      <td>HarBest Market es la primera plataforma que pe...</td>\n",
       "      <td>NaN</td>\n",
       "      <td>NaN</td>\n",
       "      <td>Agrotech</td>\n",
       "      <td>NaN</td>\n",
       "      <td>1.25</td>\n",
       "      <td>3.0</td>\n",
       "      <td>2020.0</td>\n",
       "      <td>Comunidad de Madrid, España</td>\n",
       "      <td>NaN</td>\n",
       "      <td>http://www.harbestmarket.com/</td>\n",
       "    </tr>\n",
       "    <tr>\n",
       "      <th>4</th>\n",
       "      <td>4</td>\n",
       "      <td>Hamelyn</td>\n",
       "      <td>Hamelyn nace como un re-commerce online de lib...</td>\n",
       "      <td>NaN</td>\n",
       "      <td>NaN</td>\n",
       "      <td>Marketplace</td>\n",
       "      <td>NaN</td>\n",
       "      <td>1.00</td>\n",
       "      <td>3.0</td>\n",
       "      <td>2020.0</td>\n",
       "      <td>Comunidad de Madrid, España</td>\n",
       "      <td>NaN</td>\n",
       "      <td>https://hamelyn.com/home</td>\n",
       "    </tr>\n",
       "  </tbody>\n",
       "</table>\n",
       "</div>"
      ],
      "text/plain": [
       "   Unnamed: 0       comp_name  \\\n",
       "0           0           Auara   \n",
       "1           1     Corify Care   \n",
       "2           2   Fossa Systems   \n",
       "3           3  Harbest Market   \n",
       "4           4         Hamelyn   \n",
       "\n",
       "                                         description business_model customer  \\\n",
       "0  Auara es la primera empresa social española ce...            NaN      NaN   \n",
       "1  Corify Carees una startup médica centrada en l...            NaN      B2B   \n",
       "2  En FOSSA Systems desarrollan plataformas picos...            NaN      NaN   \n",
       "3  HarBest Market es la primera plataforma que pe...            NaN      NaN   \n",
       "4  Hamelyn nace como un re-commerce online de lib...            NaN      NaN   \n",
       "\n",
       "       keywords  stage  total_funding  num_investors date_founded  \\\n",
       "0           NaN    NaN            NaN            1.0       2015.0   \n",
       "1       Biotech    NaN           5.70            1.0       2019.0   \n",
       "2  Aeroespacial    NaN            NaN            0.0       2020.0   \n",
       "3      Agrotech    NaN           1.25            3.0       2020.0   \n",
       "4   Marketplace    NaN           1.00            3.0       2020.0   \n",
       "\n",
       "                      location  employees                        website  \n",
       "0  Comunidad de Madrid, España        NaN              https://auara.org  \n",
       "1  Comunidad de Madrid, España        NaN              https://corify.es  \n",
       "2  Comunidad de Madrid, España        NaN          http://fossa.systems/  \n",
       "3  Comunidad de Madrid, España        NaN  http://www.harbestmarket.com/  \n",
       "4  Comunidad de Madrid, España        NaN    https://hamelyn.com/home     "
      ]
     },
     "execution_count": 2,
     "metadata": {},
     "output_type": "execute_result"
    }
   ],
   "source": [
    "df = pd.read_csv(\"data/final_list.csv\")\n",
    "df.head()"
   ]
  },
  {
   "cell_type": "code",
   "execution_count": 11,
   "metadata": {},
   "outputs": [
    {
     "data": {
      "text/plain": [
       "Index(['Index', 'Company', 'Description', 'Business Model', 'Target Customer',\n",
       "       'Keywords', 'Stage', 'Total Funding (in M€)', 'Number of Investors',\n",
       "       'Year Founded', 'Location', 'Employees', 'website'],\n",
       "      dtype='object')"
      ]
     },
     "execution_count": 11,
     "metadata": {},
     "output_type": "execute_result"
    }
   ],
   "source": [
    "df.columns"
   ]
  },
  {
   "cell_type": "code",
   "execution_count": 10,
   "metadata": {},
   "outputs": [],
   "source": [
    "df= df.rename(columns={\"Unnamed: 0\": \"Index\", \"comp_name\": \"Company\", \"description\": \"Description\",\n",
    "\"business_model\": \"Business Model\", \"customer\": \"Target Customer\", \"keywords\": \"Keywords\",\n",
    "\"stage\": \"Stage\", \"total_funding\": \"Total Funding (in M€)\", \"num_investors\": \"Number of Investors\",\n",
    "\"date_founded\": \"Year Founded\", \"location\": \"Location\", \"employees\": \"Employees\", \"website\": \"website\"})"
   ]
  },
  {
   "cell_type": "code",
   "execution_count": null,
   "metadata": {},
   "outputs": [],
   "source": [
    "df[\"Year Founded\"].fillna()"
   ]
  },
  {
   "cell_type": "code",
   "execution_count": 14,
   "metadata": {},
   "outputs": [
    {
     "data": {
      "text/plain": [
       "array(['2015.0', '2019.0', '2020.0', '2021.0', '2016.0', '2018.0', nan,\n",
       "       '2012.0', '2008.0', '2017.0', '2014.0', '2009.0', '2000.0',\n",
       "       '2011.0', '2010.0', 'Founded: 2020', 'Founded: 2019',\n",
       "       'Founded: 2018', 'Founded: 2017', 'Founded: 2015', 'Founded: 2012',\n",
       "       'Founded: 2013', 'Founded: 2021', 'Founded: 2014', 'Founded: 2016',\n",
       "       'Founded:', 'Founded: 2011', 'Founded: 2004', 'Founded: 2022'],\n",
       "      dtype=object)"
      ]
     },
     "execution_count": 14,
     "metadata": {},
     "output_type": "execute_result"
    }
   ],
   "source": [
    "df[\"Year Founded\"].unique()"
   ]
  },
  {
   "cell_type": "code",
   "execution_count": 17,
   "metadata": {
    "scrolled": true
   },
   "outputs": [
    {
     "name": "stdout",
     "output_type": "stream",
     "text": [
      "2015.0\n",
      "2019.0\n",
      "2020.0\n",
      "2021.0\n",
      "2016.0\n",
      "2018.0\n",
      "nan\n",
      "2012.0\n",
      "2008.0\n",
      "2017.0\n",
      "2014.0\n",
      "2009.0\n",
      "2000.0\n",
      "2011.0\n",
      "2010.0\n",
      "Founded: 2020\n",
      "Founded: 2019\n",
      "Founded: 2018\n",
      "Founded: 2017\n",
      "Founded: 2015\n",
      "Founded: 2012\n",
      "Founded: 2013\n",
      "Founded: 2021\n",
      "Founded: 2014\n",
      "Founded: 2016\n",
      "Founded:\n",
      "Founded: 2011\n",
      "Founded: 2004\n",
      "Founded: 2022\n"
     ]
    }
   ],
   "source": [
    "for x in df[\"Year Founded\"].unique():\n",
    "    print(x)"
   ]
  },
  {
   "cell_type": "code",
   "execution_count": null,
   "metadata": {},
   "outputs": [],
   "source": [
    "crash_here"
   ]
  },
  {
   "cell_type": "code",
   "execution_count": null,
   "metadata": {},
   "outputs": [],
   "source": [
    "from dash import Dash\n",
    "import dash, dash_table\n",
    "import dash_core_components as dcc\n",
    "import dash_html_components as html\n",
    "import pandas as pd\n",
    "\n",
    "external_stylesheets = [\n",
    "    {\n",
    "        \"href\": \"https://fonts.googleapis.com/css2?\"\n",
    "        \"family=Lato:wght@400;700&display=swap\",\n",
    "        \"rel\": \"stylesheet\",\n",
    "    },\n",
    "]\n",
    "\n",
    "df = pd.read_csv(\"data/final_list.csv\")\n",
    "\n",
    "\n",
    "app = dash.Dash(__name__, external_stylesheets=external_stylesheets)\n",
    "\n",
    "app.layout = html.Div(\n",
    "    children=[\n",
    "        html.Img(src=(\"/assets/Logo.png\")),\n",
    "        html.H1(children=\"Start Up List\",className=\"header-title\",),\n",
    "        html.P(children=\"Last scrape was the 12.12.12\",className=\"header-description\",),\n",
    "        \n",
    "      \n",
    "        dash_table.DataTable(\n",
    "            id='table',\n",
    "            columns=[{\"name\": i, \"id\": i} for i in df.columns],\n",
    "            data=df.to_dict('records'),\n",
    "            )\n",
    "        ], className=\"wrapper\",\n",
    "    )\n",
    "\n",
    "if __name__ == '__main__':\n",
    "        app.run_server(debug=True, use_reloader=False)"
   ]
  },
  {
   "cell_type": "code",
   "execution_count": null,
   "metadata": {},
   "outputs": [],
   "source": [
    "break_point"
   ]
  },
  {
   "cell_type": "code",
   "execution_count": null,
   "metadata": {},
   "outputs": [],
   "source": [
    "df = pd.read_csv(\"data/startup_list.csv\")\n",
    "\n",
    "app = dash.Dash(__name__)\n",
    "\n",
    "app.layout = html.Div(\n",
    "    children=[\n",
    "        html.H1(children=\"Start Up List\",className=\"header-title\",),\n",
    "        html.P(children=\"Last scrape was th 12.12.12\",),\n",
    "        \n",
    "        \n",
    "        \n",
    "        dash_table.DataTable(\n",
    "        id='table',\n",
    "        columns=[{\"name\": i, \"id\": i} for i in df.columns],\n",
    "        data=df.to_dict('records'),\n",
    ")])\n",
    "\n",
    "if __name__ == '__main__':\n",
    "        app.run_server(debug=True, use_reloader=False)"
   ]
  }
 ],
 "metadata": {
  "kernelspec": {
   "display_name": "Python 3",
   "language": "python",
   "name": "python3"
  },
  "language_info": {
   "codemirror_mode": {
    "name": "ipython",
    "version": 3
   },
   "file_extension": ".py",
   "mimetype": "text/x-python",
   "name": "python",
   "nbconvert_exporter": "python",
   "pygments_lexer": "ipython3",
   "version": "3.8.3"
  },
  "toc": {
   "base_numbering": 1,
   "nav_menu": {},
   "number_sections": true,
   "sideBar": true,
   "skip_h1_title": false,
   "title_cell": "Table of Contents",
   "title_sidebar": "Contents",
   "toc_cell": false,
   "toc_position": {},
   "toc_section_display": true,
   "toc_window_display": false
  },
  "varInspector": {
   "cols": {
    "lenName": 16,
    "lenType": 16,
    "lenVar": 40
   },
   "kernels_config": {
    "python": {
     "delete_cmd_postfix": "",
     "delete_cmd_prefix": "del ",
     "library": "var_list.py",
     "varRefreshCmd": "print(var_dic_list())"
    },
    "r": {
     "delete_cmd_postfix": ") ",
     "delete_cmd_prefix": "rm(",
     "library": "var_list.r",
     "varRefreshCmd": "cat(var_dic_list()) "
    }
   },
   "types_to_exclude": [
    "module",
    "function",
    "builtin_function_or_method",
    "instance",
    "_Feature"
   ],
   "window_display": false
  }
 },
 "nbformat": 4,
 "nbformat_minor": 4
}
