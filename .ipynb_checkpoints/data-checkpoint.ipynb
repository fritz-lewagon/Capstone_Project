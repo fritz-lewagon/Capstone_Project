{
 "cells": [
  {
   "cell_type": "code",
   "execution_count": 7,
   "id": "2397aa75",
   "metadata": {},
   "outputs": [
    {
     "ename": "SyntaxError",
     "evalue": "invalid syntax (<ipython-input-7-43d486a3c908>, line 3)",
     "output_type": "error",
     "traceback": [
      "\u001b[0;36m  File \u001b[0;32m\"<ipython-input-7-43d486a3c908>\"\u001b[0;36m, line \u001b[0;32m3\u001b[0m\n\u001b[0;31m    data = [[0,\"Auara\",\"Auara es la primera empresa social española certificada por Social Enterprise Mark. Con el objetivo de revolucionar la cooperación al desarrollo, esta marca de agua mineral invierte el 100% de los dividendos que genera vendiendo sus productos en desarrollar proyectos de acceso a agua potable en países en vía de desarrollo. El proyecto nació con una clara y proactiva vocación social con la que invita a todo el mundo que la consume a convertir un acto cotidiano como beber agua, en un acto extraordinario. Desde su lanzamiento en septiembre de 2016, ya ha dado acceso a agua a más de 57.400 personas y ha generado 72,4 millones de litros de agua potable, habiendo recibido numerosos premios y reconocimientos.\",,,,,,1.0,2015.0,\"Comunidad de Madrid, España\",,\"https://auara.org\"],[1,\"Auara\",\"TEST TEST TEST. Auara es la primera empresa social española certificada por Social Enterprise Mark. Con el objetivo de revolucionar la cooperación al desarrollo, esta marca de agua mineral invierte el 100% de los dividendos que genera vendiendo sus pro\",,,,,,1.0,2015.0,\"Comunidad de Madrid, España\",,\"https://auara.org\"]]\u001b[0m\n\u001b[0m                                                                                                                                                                                                                                                                                                                                                                                                                                                                                                                                                                                                                                                                                                                                                                 ^\u001b[0m\n\u001b[0;31mSyntaxError\u001b[0m\u001b[0;31m:\u001b[0m invalid syntax\n"
     ]
    }
   ],
   "source": [
    "import pandas as pd\n",
    "\n",
    "data = [[0,\"Auara\",\"Beschreibung 1\",,,,,,1.0,2015.0,\"Comunidad de Madrid, España\",,\"https://auara.org\"],[1,\"Auara\",\"Beschreibung 2 TEST TEST TEST.\",,,,,,1.0,2015.0,\"Comunidad de Madrid, España\",,\"https://auara.org\"]]\n",
    "\n",
    "df = pd.DataFrame(data, columns = [\"\",\"comp_name\",\"description\",\"business_model\",\"customer\",\"keywords\",\"stage\",\"total_funding\",\"num_investors\",\"date_founded\",\"location\",\"employees\",\"website\"])\n",
    "\n",
    "\n",
    "df.to_csv (r'./data/final_list.csv', index = False, header=True)"
   ]
  }
 ],
 "metadata": {
  "kernelspec": {
   "display_name": "Python 3",
   "language": "python",
   "name": "python3"
  },
  "language_info": {
   "codemirror_mode": {
    "name": "ipython",
    "version": 3
   },
   "file_extension": ".py",
   "mimetype": "text/x-python",
   "name": "python",
   "nbconvert_exporter": "python",
   "pygments_lexer": "ipython3",
   "version": "3.8.8"
  }
 },
 "nbformat": 4,
 "nbformat_minor": 5
}
