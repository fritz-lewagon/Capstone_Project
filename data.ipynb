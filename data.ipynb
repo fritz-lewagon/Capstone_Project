{
 "cells": [
  {
   "cell_type": "code",
   "execution_count": 12,
   "id": "9736f614",
   "metadata": {},
   "outputs": [],
   "source": [
    "import pandas as pd\n",
    "\n",
    "data = [[0,\"Auara\",\"Beschreibung 1\",\"x\",\"test\",\"test\",\"test\",\"test\",1.0,2015.0,\"Comunidad de Madrid, España\",\"test\",\"https://auara.org\"]]\n",
    "df = pd.DataFrame(data, columns = [\"x\",\"comp_name\",\"description\",\"business_model\",\"customer\",\"keywords\",\"stage\",\"total_funding\",\"num_investors\",\"date_founded\",\"location\",\"employees\",\"website\"])\n",
    "\n",
    "\n",
    "df.to_csv (r'./data/final_list.csv', index = False, header=True)"
   ]
  }
 ],
 "metadata": {
  "kernelspec": {
   "display_name": "Python 3",
   "language": "python",
   "name": "python3"
  },
  "language_info": {
   "codemirror_mode": {
    "name": "ipython",
    "version": 3
   },
   "file_extension": ".py",
   "mimetype": "text/x-python",
   "name": "python",
   "nbconvert_exporter": "python",
   "pygments_lexer": "ipython3",
   "version": "3.8.8"
  }
 },
 "nbformat": 4,
 "nbformat_minor": 5
}
